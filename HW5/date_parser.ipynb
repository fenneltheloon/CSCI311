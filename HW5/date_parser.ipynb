{
 "cells": [
  {
   "cell_type": "code",
   "id": "initial_id",
   "metadata": {
    "collapsed": true,
    "ExecuteTime": {
     "end_time": "2024-11-27T08:45:59.169746Z",
     "start_time": "2024-11-27T08:45:58.960855Z"
    }
   },
   "source": [
    "import pandas\n",
    "import re\n",
    "\n",
    "data = pandas.read_excel(\"AMAM eMuseum data export 9.26.24.xlsx\")\n",
    "data[\"Dated\"]"
   ],
   "outputs": [
    {
     "data": {
      "text/plain": [
       "0             19th century\n",
       "1                     1856\n",
       "2                  1855–56\n",
       "3                 ca. 1853\n",
       "4       early 20th century\n",
       "               ...        \n",
       "2144                  2022\n",
       "2145              ca. 1883\n",
       "2146                  1983\n",
       "2147                  2024\n",
       "2148                  1991\n",
       "Name: Dated, Length: 2149, dtype: object"
      ]
     },
     "execution_count": 3,
     "metadata": {},
     "output_type": "execute_result"
    }
   ],
   "execution_count": 3
  },
  {
   "metadata": {
    "ExecuteTime": {
     "end_time": "2024-11-27T09:54:05.027901Z",
     "start_time": "2024-11-27T09:54:05.001228Z"
    }
   },
   "cell_type": "code",
   "source": [
    "def parse(entry):\n",
    "    m = re.fullmatch(r\"(\\d+)(?:st|nd|rd|th) century\", entry)\n",
    "    if m:\n",
    "        century = int(m.group(1)) * 100\n",
    "        return century - 99, century, False\n",
    "    m = re.fullmatch(r\"(\\d+)\", entry)\n",
    "    if m:\n",
    "        year = int(m.group(1))\n",
    "        return year, year, False\n",
    "    m = re.fullmatch(r\"(\\d{2,})(?:-|—|–)(\\d{2})\", entry)\n",
    "    if m:\n",
    "        start_year = int(m.group(1))\n",
    "        end_year = start_year - (start_year % 100) + int(m.group(2))\n",
    "        return start_year, end_year, False\n",
    "    m = re.fullmatch(r\"(?:ca. |circa )(\\d+)\", entry)\n",
    "    if m:\n",
    "        year = int(m.group(1))\n",
    "        return year, year, True\n",
    "    m = re.fullmatch(r\"early (\\d{1,2})(?:st|nd|rd|th) century(?: CE)?\", entry)\n",
    "    if m:\n",
    "        start_year = int(m.group(1)) * 100 - 99\n",
    "        end_year = start_year + 33\n",
    "        return start_year, end_year, True\n",
    "    m = re.fullmatch(r\"(\\d{1,2})(?:st|nd|rd|th)(?:-|—|–)(\\d{1,2})(?:st|nd|rd|th) century\", entry)\n",
    "    if m:\n",
    "        start_year = int(m.group(1)) * 100 - 99\n",
    "        end_year = start_year + 99\n",
    "        return start_year, end_year, False\n",
    "    m = re.fullmatch(r\"late (\\d{1,2})(?:st|nd|rd|th) century\", entry)\n",
    "    if m:\n",
    "        start_year = int(m.group(1)) * 100 - 33\n",
    "        end_year = start_year + 33\n",
    "        return start_year, end_year, True\n",
    "    m = re.fullmatch(r\"(\\d{3}0)s\", entry)\n",
    "    if m:\n",
    "        start_year = int(m.group(1))\n",
    "        end_year = start_year + 9\n",
    "        return start_year, end_year, False\n",
    "\n",
    "    raise ValueError(f\"Failed to parse {entry}\")\n",
    "\n",
    "\n",
    "data[[\"Start Date\", \"End Date\", \"Approximate\"]] = data[\"Dated\"].map(parse)"
   ],
   "id": "3032466c02920f1",
   "outputs": [
    {
     "ename": "ValueError",
     "evalue": "Failed to parse second half 17th–early 18th century",
     "output_type": "error",
     "traceback": [
      "\u001B[0;31m---------------------------------------------------------------------------\u001B[0m",
      "\u001B[0;31mValueError\u001B[0m                                Traceback (most recent call last)",
      "Cell \u001B[0;32mIn[23], line 43\u001B[0m\n\u001B[1;32m     38\u001B[0m         \u001B[38;5;28;01mreturn\u001B[39;00m start_year, end_year, \u001B[38;5;28;01mTrue\u001B[39;00m\n\u001B[1;32m     40\u001B[0m     \u001B[38;5;28;01mraise\u001B[39;00m \u001B[38;5;167;01mValueError\u001B[39;00m(\u001B[38;5;124mf\u001B[39m\u001B[38;5;124m\"\u001B[39m\u001B[38;5;124mFailed to parse \u001B[39m\u001B[38;5;132;01m{\u001B[39;00mentry\u001B[38;5;132;01m}\u001B[39;00m\u001B[38;5;124m\"\u001B[39m)\n\u001B[0;32m---> 43\u001B[0m data[[\u001B[38;5;124m\"\u001B[39m\u001B[38;5;124mStart Date\u001B[39m\u001B[38;5;124m\"\u001B[39m, \u001B[38;5;124m\"\u001B[39m\u001B[38;5;124mEnd Date\u001B[39m\u001B[38;5;124m\"\u001B[39m, \u001B[38;5;124m\"\u001B[39m\u001B[38;5;124mApproximate\u001B[39m\u001B[38;5;124m\"\u001B[39m]] \u001B[38;5;241m=\u001B[39m \u001B[43mdata\u001B[49m\u001B[43m[\u001B[49m\u001B[38;5;124;43m\"\u001B[39;49m\u001B[38;5;124;43mDated\u001B[39;49m\u001B[38;5;124;43m\"\u001B[39;49m\u001B[43m]\u001B[49m\u001B[38;5;241;43m.\u001B[39;49m\u001B[43mmap\u001B[49m\u001B[43m(\u001B[49m\u001B[43mparse\u001B[49m\u001B[43m)\u001B[49m\n",
      "File \u001B[0;32m~/Documents/CSCI311/HW5/venv/lib/python3.12/site-packages/pandas/core/series.py:4700\u001B[0m, in \u001B[0;36mSeries.map\u001B[0;34m(self, arg, na_action)\u001B[0m\n\u001B[1;32m   4620\u001B[0m \u001B[38;5;28;01mdef\u001B[39;00m \u001B[38;5;21mmap\u001B[39m(\n\u001B[1;32m   4621\u001B[0m     \u001B[38;5;28mself\u001B[39m,\n\u001B[1;32m   4622\u001B[0m     arg: Callable \u001B[38;5;241m|\u001B[39m Mapping \u001B[38;5;241m|\u001B[39m Series,\n\u001B[1;32m   4623\u001B[0m     na_action: Literal[\u001B[38;5;124m\"\u001B[39m\u001B[38;5;124mignore\u001B[39m\u001B[38;5;124m\"\u001B[39m] \u001B[38;5;241m|\u001B[39m \u001B[38;5;28;01mNone\u001B[39;00m \u001B[38;5;241m=\u001B[39m \u001B[38;5;28;01mNone\u001B[39;00m,\n\u001B[1;32m   4624\u001B[0m ) \u001B[38;5;241m-\u001B[39m\u001B[38;5;241m>\u001B[39m Series:\n\u001B[1;32m   4625\u001B[0m \u001B[38;5;250m    \u001B[39m\u001B[38;5;124;03m\"\"\"\u001B[39;00m\n\u001B[1;32m   4626\u001B[0m \u001B[38;5;124;03m    Map values of Series according to an input mapping or function.\u001B[39;00m\n\u001B[1;32m   4627\u001B[0m \n\u001B[0;32m   (...)\u001B[0m\n\u001B[1;32m   4698\u001B[0m \u001B[38;5;124;03m    dtype: object\u001B[39;00m\n\u001B[1;32m   4699\u001B[0m \u001B[38;5;124;03m    \"\"\"\u001B[39;00m\n\u001B[0;32m-> 4700\u001B[0m     new_values \u001B[38;5;241m=\u001B[39m \u001B[38;5;28;43mself\u001B[39;49m\u001B[38;5;241;43m.\u001B[39;49m\u001B[43m_map_values\u001B[49m\u001B[43m(\u001B[49m\u001B[43marg\u001B[49m\u001B[43m,\u001B[49m\u001B[43m \u001B[49m\u001B[43mna_action\u001B[49m\u001B[38;5;241;43m=\u001B[39;49m\u001B[43mna_action\u001B[49m\u001B[43m)\u001B[49m\n\u001B[1;32m   4701\u001B[0m     \u001B[38;5;28;01mreturn\u001B[39;00m \u001B[38;5;28mself\u001B[39m\u001B[38;5;241m.\u001B[39m_constructor(new_values, index\u001B[38;5;241m=\u001B[39m\u001B[38;5;28mself\u001B[39m\u001B[38;5;241m.\u001B[39mindex, copy\u001B[38;5;241m=\u001B[39m\u001B[38;5;28;01mFalse\u001B[39;00m)\u001B[38;5;241m.\u001B[39m__finalize__(\n\u001B[1;32m   4702\u001B[0m         \u001B[38;5;28mself\u001B[39m, method\u001B[38;5;241m=\u001B[39m\u001B[38;5;124m\"\u001B[39m\u001B[38;5;124mmap\u001B[39m\u001B[38;5;124m\"\u001B[39m\n\u001B[1;32m   4703\u001B[0m     )\n",
      "File \u001B[0;32m~/Documents/CSCI311/HW5/venv/lib/python3.12/site-packages/pandas/core/base.py:921\u001B[0m, in \u001B[0;36mIndexOpsMixin._map_values\u001B[0;34m(self, mapper, na_action, convert)\u001B[0m\n\u001B[1;32m    918\u001B[0m \u001B[38;5;28;01mif\u001B[39;00m \u001B[38;5;28misinstance\u001B[39m(arr, ExtensionArray):\n\u001B[1;32m    919\u001B[0m     \u001B[38;5;28;01mreturn\u001B[39;00m arr\u001B[38;5;241m.\u001B[39mmap(mapper, na_action\u001B[38;5;241m=\u001B[39mna_action)\n\u001B[0;32m--> 921\u001B[0m \u001B[38;5;28;01mreturn\u001B[39;00m \u001B[43malgorithms\u001B[49m\u001B[38;5;241;43m.\u001B[39;49m\u001B[43mmap_array\u001B[49m\u001B[43m(\u001B[49m\u001B[43marr\u001B[49m\u001B[43m,\u001B[49m\u001B[43m \u001B[49m\u001B[43mmapper\u001B[49m\u001B[43m,\u001B[49m\u001B[43m \u001B[49m\u001B[43mna_action\u001B[49m\u001B[38;5;241;43m=\u001B[39;49m\u001B[43mna_action\u001B[49m\u001B[43m,\u001B[49m\u001B[43m \u001B[49m\u001B[43mconvert\u001B[49m\u001B[38;5;241;43m=\u001B[39;49m\u001B[43mconvert\u001B[49m\u001B[43m)\u001B[49m\n",
      "File \u001B[0;32m~/Documents/CSCI311/HW5/venv/lib/python3.12/site-packages/pandas/core/algorithms.py:1743\u001B[0m, in \u001B[0;36mmap_array\u001B[0;34m(arr, mapper, na_action, convert)\u001B[0m\n\u001B[1;32m   1741\u001B[0m values \u001B[38;5;241m=\u001B[39m arr\u001B[38;5;241m.\u001B[39mastype(\u001B[38;5;28mobject\u001B[39m, copy\u001B[38;5;241m=\u001B[39m\u001B[38;5;28;01mFalse\u001B[39;00m)\n\u001B[1;32m   1742\u001B[0m \u001B[38;5;28;01mif\u001B[39;00m na_action \u001B[38;5;129;01mis\u001B[39;00m \u001B[38;5;28;01mNone\u001B[39;00m:\n\u001B[0;32m-> 1743\u001B[0m     \u001B[38;5;28;01mreturn\u001B[39;00m \u001B[43mlib\u001B[49m\u001B[38;5;241;43m.\u001B[39;49m\u001B[43mmap_infer\u001B[49m\u001B[43m(\u001B[49m\u001B[43mvalues\u001B[49m\u001B[43m,\u001B[49m\u001B[43m \u001B[49m\u001B[43mmapper\u001B[49m\u001B[43m,\u001B[49m\u001B[43m \u001B[49m\u001B[43mconvert\u001B[49m\u001B[38;5;241;43m=\u001B[39;49m\u001B[43mconvert\u001B[49m\u001B[43m)\u001B[49m\n\u001B[1;32m   1744\u001B[0m \u001B[38;5;28;01melse\u001B[39;00m:\n\u001B[1;32m   1745\u001B[0m     \u001B[38;5;28;01mreturn\u001B[39;00m lib\u001B[38;5;241m.\u001B[39mmap_infer_mask(\n\u001B[1;32m   1746\u001B[0m         values, mapper, mask\u001B[38;5;241m=\u001B[39misna(values)\u001B[38;5;241m.\u001B[39mview(np\u001B[38;5;241m.\u001B[39muint8), convert\u001B[38;5;241m=\u001B[39mconvert\n\u001B[1;32m   1747\u001B[0m     )\n",
      "File \u001B[0;32mlib.pyx:2972\u001B[0m, in \u001B[0;36mpandas._libs.lib.map_infer\u001B[0;34m()\u001B[0m\n",
      "Cell \u001B[0;32mIn[23], line 40\u001B[0m, in \u001B[0;36mparse\u001B[0;34m(entry)\u001B[0m\n\u001B[1;32m     37\u001B[0m     end_year \u001B[38;5;241m=\u001B[39m start_year \u001B[38;5;241m+\u001B[39m \u001B[38;5;241m9\u001B[39m\n\u001B[1;32m     38\u001B[0m     \u001B[38;5;28;01mreturn\u001B[39;00m start_year, end_year, \u001B[38;5;28;01mTrue\u001B[39;00m\n\u001B[0;32m---> 40\u001B[0m \u001B[38;5;28;01mraise\u001B[39;00m \u001B[38;5;167;01mValueError\u001B[39;00m(\u001B[38;5;124mf\u001B[39m\u001B[38;5;124m\"\u001B[39m\u001B[38;5;124mFailed to parse \u001B[39m\u001B[38;5;132;01m{\u001B[39;00mentry\u001B[38;5;132;01m}\u001B[39;00m\u001B[38;5;124m\"\u001B[39m)\n",
      "\u001B[0;31mValueError\u001B[0m: Failed to parse second half 17th–early 18th century"
     ]
    }
   ],
   "execution_count": 23
  }
 ],
 "metadata": {
  "kernelspec": {
   "display_name": "Python 3",
   "language": "python",
   "name": "python3"
  },
  "language_info": {
   "codemirror_mode": {
    "name": "ipython",
    "version": 2
   },
   "file_extension": ".py",
   "mimetype": "text/x-python",
   "name": "python",
   "nbconvert_exporter": "python",
   "pygments_lexer": "ipython2",
   "version": "2.7.6"
  }
 },
 "nbformat": 4,
 "nbformat_minor": 5
}
