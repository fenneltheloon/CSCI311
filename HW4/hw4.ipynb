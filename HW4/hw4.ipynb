{
 "cells": [
  {
   "metadata": {},
   "cell_type": "code",
   "outputs": [],
   "execution_count": null,
   "source": "",
   "id": "2fe5fdaaced7a2f0"
  },
  {
   "cell_type": "code",
   "id": "initial_id",
   "metadata": {
    "collapsed": true,
    "ExecuteTime": {
     "end_time": "2024-11-11T04:08:05.737990Z",
     "start_time": "2024-11-11T04:08:05.713536Z"
    }
   },
   "source": [
    "import pandas as pd\n",
    "import regex as re\n",
    "\n",
    "noparens = r\"\"\n",
    "\n",
    "museum = pd.read_csv('museum.csv')\n",
    "museum['Period/Dynasty (Ctrl + Insert)'].unique()"
   ],
   "outputs": [
    {
     "data": {
      "text/plain": [
       "array(['Qing Dynasty (1644-1911)', 'Edo period (1615–1868)', nan,\n",
       "       'Imperial period (27 BC–AD 393)', 'Qing dynasty (1644–1911)',\n",
       "       'Meiji period (1868–1912)',\n",
       "       'Qing dynasty, Kangxi period (1662–1722)',\n",
       "       'Edo-Meiji periods (1615–1912)', 'Meiji Period (1868 - 1912)',\n",
       "       'Qing Dynasty (1644 - 1911)', 'Edo Period (1615 - 1868)',\n",
       "       'Qajar Dynasty (1779 - 1924)', 'Ottoman Empire (ca. 1299–1922)',\n",
       "       'Qing Dynasty, Kangxi period (1662 - 1722)',\n",
       "       'Tang Dynasty (618 - 906)', 'Silla Kingdom (57 BC - 668 AD)',\n",
       "       'Ming-Qing Dynasties (1368 - 1911)',\n",
       "       'Choson Dynasty (1392 - 1910)',\n",
       "       'Meiji-Taisho periods (1868 - 1926)',\n",
       "       'Qing Dynasty, Qianlong period (1736 - 1796)',\n",
       "       'Song Dynasty (960 - 1279)',\n",
       "       'Old Kingdom (ca. 2649–2150 BC), Sixth Dynasty',\n",
       "       'Yuan Dynasty (1272 - 1368)', 'Shang Dynasty (1600-1100 BC)',\n",
       "       'Northern Qi Dynasty (550 - 577)',\n",
       "       'Zhou-Han dynasty (771 BC–220 AD)', 'Early Christian',\n",
       "       'Northern Wei Dynasty (386 - 535)', 'Angkor Period (802 - 1431)',\n",
       "       'Shang Dynasty (c. 1600 - 1100 BC)', 'Koryo Period (918 - 1392)',\n",
       "       'Qing Dynasty-Republican Period (1644 - 1949)',\n",
       "       'Taisho Period (1912 - 1926)', 'Heian Period (794 - 1185)',\n",
       "       'Edo-Meiji Periods (1615 - 1912)',\n",
       "       'Muromachi Period (1392 - 1573)', 'Ming Dynasty (1368 - 1644)',\n",
       "       'Anglo-Norman', 'Safavid Dynasty (1501 - 1722)',\n",
       "       'Showa Period (1926 - 1989)',\n",
       "       'Tang Dynasty (618–907) or Liao Dynasty (907–1125)',\n",
       "       'Timurid dynasty (1370–1506)', 'Mughal Dynasty (1526 - 1858)',\n",
       "       'Chola-Vijayanagar Dynasties (c.860 - 1565)',\n",
       "       'Malla Period (1200 - 1479)',\n",
       "       'Khasa Malla Kingdom (11th-14th centuries)',\n",
       "       'Late Classic, 600 - 900',\n",
       "       'Guge Kingdom (ca. 10th–17th centuries)',\n",
       "       'Muromachi-Momoyama Periods (1392 - 1615)',\n",
       "       'Ottoman Period (c.1299 - 1922)',\n",
       "       'Kushan Period (2nd century BC - 3rd century AD)',\n",
       "       'Safavid dynasty (1501–1772)', 'Republican Period (1912 - 1949)',\n",
       "       'Yuan-Ming Dynasties (1272 - 1644)',\n",
       "       'Small Kingdoms (1287 - 1531)', 'Heisei Period (1989 - present)',\n",
       "       'Meiji-Taisho Periods (1868 - 1926)',\n",
       "       'Song-Jin Dynasties (960 - 1234)', 'Republic period (1912–1949)',\n",
       "       'Joseon dynasty (1392–1910)'], dtype=object)"
      ]
     },
     "execution_count": 16,
     "metadata": {},
     "output_type": "execute_result"
    }
   ],
   "execution_count": 16
  }
 ],
 "metadata": {
  "kernelspec": {
   "display_name": "Python 3",
   "language": "python",
   "name": "python3"
  },
  "language_info": {
   "codemirror_mode": {
    "name": "ipython",
    "version": 2
   },
   "file_extension": ".py",
   "mimetype": "text/x-python",
   "name": "python",
   "nbconvert_exporter": "python",
   "pygments_lexer": "ipython2",
   "version": "2.7.6"
  }
 },
 "nbformat": 4,
 "nbformat_minor": 5
}
